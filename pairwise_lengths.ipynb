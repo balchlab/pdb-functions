{
 "cells": [
  {
   "cell_type": "markdown",
   "metadata": {},
   "source": [
    "* Useful information about pdb file format\n",
    "\n",
    "https://www.cgl.ucsf.edu/chimera/docs/UsersGuide/tutorials/pdbintro.html\n",
    "\n",
    "https://www.wwpdb.org/documentation/file-format-content/format33/sect3.html"
   ]
  },
  {
   "cell_type": "code",
   "execution_count": 7,
   "metadata": {},
   "outputs": [],
   "source": [
    "from Bio.PDB import *\n",
    "from Bio import SeqIO\n",
    "import numpy as np\n",
    "import numpy.matlib\n",
    "from sklearn import metrics\n",
    "\n",
    "#filename = '3ne4'\n",
    "filename = '3t1p'"
   ]
  },
  {
   "cell_type": "markdown",
   "metadata": {},
   "source": [
    "### Method to find the dbref chain length (this is database info), differences in SEQADV \n",
    "* Pay attention to the reference start and end in comparison to the pdb start end residue positions\n",
    "* Update function 1/6/20, need start and end position for updating matrix and pdb chain length"
   ]
  },
  {
   "cell_type": "code",
   "execution_count": 8,
   "metadata": {},
   "outputs": [
    {
     "name": "stdout",
     "output_type": "stream",
     "text": [
      "[[24, 394, 370]]\n",
      "[[48, 418, 418]]\n"
     ]
    }
   ],
   "source": [
    "#chain_lengths (list of lists) -> start pos, end pos, chain length\n",
    "pdb_chains = []\n",
    "ref_chains = []\n",
    "\n",
    "with open(f'pdb_files/{filename}.pdb') as handle:\n",
    "    #reads every line in the file\n",
    "    for line in handle:\n",
    "        #Locate dbref line\n",
    "        rec_name = line[0:6].strip() \n",
    "        if rec_name == \"DBREF\":\n",
    "            pdb_start = int(line[14:18])\n",
    "            pdb_end = int(line[20:24])\n",
    "            pdb_chains.append([pdb_start,pdb_end,pdb_end-pdb_start]) #end position does not have an atom measurement\n",
    "            \n",
    "            ref_start = int(line[55:60])\n",
    "            ref_end = int(line[62:67])\n",
    "            ref_chains.append([ref_start, ref_end, ref_end])\n",
    "\n",
    "print(pdb_chains)\n",
    "print(ref_chains)"
   ]
  },
  {
   "cell_type": "markdown",
   "metadata": {},
   "source": [
    "### Using reference chain length, fetch ca position for each residue"
   ]
  },
  {
   "cell_type": "code",
   "execution_count": 9,
   "metadata": {},
   "outputs": [],
   "source": [
    "parser = PDBParser()\n",
    "structure = parser.get_structure('cftr',f'pdb_files/{filename}.pdb')\n",
    "chains=[]\n",
    "\n",
    "positions = {} #positions of ca atom for every residue in chain, if not in pdb file then set to NaN\n",
    "for model in structure:\n",
    "    for chain, ref_length, pdb_length in zip(model,ref_chains,pdb_chains):\n",
    "        chains.append(chain)\n",
    "        positions[f'chain {chain.id}'] = np.empty([ref_length[2],3])\n",
    "        positions[f'chain {chain.id}'][:] = np.nan\n",
    "        for res in chain.get_residues():\n",
    "            pos = res.get_full_id()[3][1]\n",
    "            \n",
    "            if pos>pdb_length[1]:\n",
    "                 break          \n",
    "#             if pos>positions[f'chain {chain.id}'].shape[0]:\n",
    "#                 break\n",
    "            else:\n",
    "                adjusted_pos = pos-1+ref_length[0]-pdb_length[0] #the pos-1 is because we are indexed 0 and data is indexed 1\n",
    "                positions[f'chain {chain.id}'][adjusted_pos,:] = res['CA'].coord "
   ]
  },
  {
   "cell_type": "markdown",
   "metadata": {},
   "source": [
    "### use sklearn pairwise distances to compute every pairwise distance"
   ]
  },
  {
   "cell_type": "code",
   "execution_count": 4,
   "metadata": {},
   "outputs": [],
   "source": [
    "pairwise_distances = {}\n",
    "for chain in positions:\n",
    "    pairwise_distances[chain] = [] #list for full matrix and column form\n",
    "    pairwise = metrics.pairwise_distances(positions[chain],positions[chain],metric='nan_euclidean',force_all_finite='allow-nan') #compute all pairwise distances\n",
    "    \n",
    "    #append pairwise matrix\n",
    "    pairwise_distances[chain].append(pairwise)\n",
    "    \n",
    "    #column form\n",
    "#     indxs = np.matlib.repmat(range(1,pairwise.shape[0]+1),pairwise.shape[0],1).T\n",
    "#     indxs =  np.reshape(indxs,pairwise.size)[:,None]\n",
    "#     vals = np.reshape(pairwise,pairwise.size)[:,None]\n",
    "#     pairwise_distances[chain].append(np.hstack((vals,indxs)))"
   ]
  },
  {
   "cell_type": "code",
   "execution_count": 5,
   "metadata": {},
   "outputs": [
    {
     "data": {
      "text/plain": [
       "(418, 418)"
      ]
     },
     "execution_count": 5,
     "metadata": {},
     "output_type": "execute_result"
    }
   ],
   "source": [
    "pairwise_distances[chain][0].shape"
   ]
  },
  {
   "cell_type": "code",
   "execution_count": 6,
   "metadata": {},
   "outputs": [],
   "source": [
    "chain = 'chain A'\n",
    "np.savetxt(f'distances/{filename}_dist_mat.txt',pairwise_distances[chain][0],fmt='%.5f',delimiter='\\t')\n",
    "# np.savetxt(f'distances/{filename}_dist_cols.txt',pairwise_distances[chain][1],fmt='%.5f')"
   ]
  }
 ],
 "metadata": {
  "kernelspec": {
   "display_name": "Python 3",
   "language": "python",
   "name": "python3"
  },
  "language_info": {
   "codemirror_mode": {
    "name": "ipython",
    "version": 3
   },
   "file_extension": ".py",
   "mimetype": "text/x-python",
   "name": "python",
   "nbconvert_exporter": "python",
   "pygments_lexer": "ipython3",
   "version": "3.7.3"
  }
 },
 "nbformat": 4,
 "nbformat_minor": 4
}
